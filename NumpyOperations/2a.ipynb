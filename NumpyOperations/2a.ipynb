{
  "nbformat": 4,
  "nbformat_minor": 0,
  "metadata": {
    "colab": {
      "provenance": []
    },
    "kernelspec": {
      "name": "python3",
      "display_name": "Python 3"
    },
    "language_info": {
      "name": "python"
    }
  },
  "cells": [
    {
      "cell_type": "code",
      "execution_count": 1,
      "metadata": {
        "id": "3QvIfuyXAdyb"
      },
      "outputs": [],
      "source": [
        "import numpy as np"
      ]
    },
    {
      "cell_type": "code",
      "source": [
        "array1 = np.array([1,2,4,5])\n",
        "array1"
      ],
      "metadata": {
        "colab": {
          "base_uri": "https://localhost:8080/"
        },
        "id": "-SPRYQTdAroQ",
        "outputId": "9c8b8af7-fb0a-4da2-9020-8bedbd8c6f6e"
      },
      "execution_count": 3,
      "outputs": [
        {
          "output_type": "execute_result",
          "data": {
            "text/plain": [
              "array([1, 2, 4, 5])"
            ]
          },
          "metadata": {},
          "execution_count": 3
        }
      ]
    },
    {
      "cell_type": "code",
      "source": [
        "array2 = np.array([[1,2,4,5],[1,2,4,5]])\n",
        "array2"
      ],
      "metadata": {
        "colab": {
          "base_uri": "https://localhost:8080/"
        },
        "id": "kWaEmH1FAxfB",
        "outputId": "e626ae91-10e0-409e-b73c-a0d9a5e7e2df"
      },
      "execution_count": 4,
      "outputs": [
        {
          "output_type": "execute_result",
          "data": {
            "text/plain": [
              "array([[1, 2, 4, 5],\n",
              "       [1, 2, 4, 5]])"
            ]
          },
          "metadata": {},
          "execution_count": 4
        }
      ]
    },
    {
      "cell_type": "code",
      "source": [
        "array3 = np.array([[1,2,4,5],[1,2,4,5]])\n",
        "array3"
      ],
      "metadata": {
        "colab": {
          "base_uri": "https://localhost:8080/"
        },
        "id": "qUm41FmFA9Ai",
        "outputId": "fd00d592-db21-483b-b8da-b800961ee5b7"
      },
      "execution_count": 5,
      "outputs": [
        {
          "output_type": "execute_result",
          "data": {
            "text/plain": [
              "array([[1, 2, 4, 5],\n",
              "       [1, 2, 4, 5]])"
            ]
          },
          "metadata": {},
          "execution_count": 5
        }
      ]
    },
    {
      "cell_type": "code",
      "source": [
        "ones = np.ones((1,10))\n",
        "ones"
      ],
      "metadata": {
        "colab": {
          "base_uri": "https://localhost:8080/"
        },
        "id": "UCoWnMd3Dc2B",
        "outputId": "49697d2a-bf6e-4da5-b68a-2d24cad0167c"
      },
      "execution_count": 7,
      "outputs": [
        {
          "output_type": "execute_result",
          "data": {
            "text/plain": [
              "array([[1., 1., 1., 1., 1., 1., 1., 1., 1., 1.]])"
            ]
          },
          "metadata": {},
          "execution_count": 7
        }
      ]
    },
    {
      "cell_type": "code",
      "source": [
        "zeros = np.zeros((1,4))\n",
        "zeros"
      ],
      "metadata": {
        "colab": {
          "base_uri": "https://localhost:8080/"
        },
        "id": "EvCKaIgxDnjS",
        "outputId": "4a75e97b-0b51-4f2a-cd2e-5b0a8d632e7c"
      },
      "execution_count": 8,
      "outputs": [
        {
          "output_type": "execute_result",
          "data": {
            "text/plain": [
              "array([[0., 0., 0., 0.]])"
            ]
          },
          "metadata": {},
          "execution_count": 8
        }
      ]
    },
    {
      "cell_type": "code",
      "source": [
        "np.random.random((2,2))"
      ],
      "metadata": {
        "colab": {
          "base_uri": "https://localhost:8080/"
        },
        "id": "ByMy85MIDurx",
        "outputId": "347947e6-a4f6-49ad-dcc8-29a5b46b4c0c"
      },
      "execution_count": 9,
      "outputs": [
        {
          "output_type": "execute_result",
          "data": {
            "text/plain": [
              "array([[0.8830488 , 0.50104068],\n",
              "       [0.42341137, 0.08297919]])"
            ]
          },
          "metadata": {},
          "execution_count": 9
        }
      ]
    },
    {
      "cell_type": "code",
      "source": [
        "np.empty((5,5))"
      ],
      "metadata": {
        "colab": {
          "base_uri": "https://localhost:8080/"
        },
        "id": "PwK7it6HD1Mz",
        "outputId": "60fc5281-ab58-4f7f-ce99-5af757793d3e"
      },
      "execution_count": 11,
      "outputs": [
        {
          "output_type": "execute_result",
          "data": {
            "text/plain": [
              "array([[ 5.03395435e-310,  0.00000000e+000,  0.00000000e+000,\n",
              "        -1.00000000e+000,  1.00000000e+000],\n",
              "       [-2.00000000e+000,  2.00000000e+000, -1.00000000e+000,\n",
              "         1.00000000e+000,  0.00000000e+000],\n",
              "       [ 2.00000000e+000,  1.00000000e+000,  1.00000000e+000,\n",
              "         2.00000000e+000,  0.00000000e+000],\n",
              "       [ 1.00000000e+000, -1.00000000e+000,  2.00000000e+000,\n",
              "        -2.00000000e+000,  1.00000000e+000],\n",
              "       [-1.00000000e+000,  0.00000000e+000, -2.00000000e+000,\n",
              "        -1.00000000e+000,  1.02765654e-321]])"
            ]
          },
          "metadata": {},
          "execution_count": 11
        }
      ]
    },
    {
      "cell_type": "code",
      "source": [
        "rangearr = np.arange(10,25,3)\n",
        "rangearr"
      ],
      "metadata": {
        "colab": {
          "base_uri": "https://localhost:8080/"
        },
        "id": "-zyKsoyQD5X6",
        "outputId": "666993f5-0814-4aaf-a4ec-57297d55b8d8"
      },
      "execution_count": 12,
      "outputs": [
        {
          "output_type": "execute_result",
          "data": {
            "text/plain": [
              "array([10, 13, 16, 19, 22])"
            ]
          },
          "metadata": {},
          "execution_count": 12
        }
      ]
    },
    {
      "cell_type": "code",
      "source": [
        "np.linspace(2,9,12)"
      ],
      "metadata": {
        "colab": {
          "base_uri": "https://localhost:8080/"
        },
        "id": "duxatPF2EEGC",
        "outputId": "a41db5c3-91eb-466f-9512-69a4c9e91471"
      },
      "execution_count": 14,
      "outputs": [
        {
          "output_type": "execute_result",
          "data": {
            "text/plain": [
              "array([2.        , 2.63636364, 3.27272727, 3.90909091, 4.54545455,\n",
              "       5.18181818, 5.81818182, 6.45454545, 7.09090909, 7.72727273,\n",
              "       8.36363636, 9.        ])"
            ]
          },
          "metadata": {},
          "execution_count": 14
        }
      ]
    },
    {
      "cell_type": "code",
      "source": [],
      "metadata": {
        "id": "NBpi2qscEbws"
      },
      "execution_count": null,
      "outputs": []
    }
  ]
}